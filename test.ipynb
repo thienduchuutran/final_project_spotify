{
 "cells": [
  {
   "cell_type": "code",
   "execution_count": 8,
   "metadata": {},
   "outputs": [
    {
     "name": "stdout",
     "output_type": "stream",
     "text": [
      "Yet Not I but Through Christ in Me by CityAlight\n",
      "Desert Song by Hillsong Worship\n",
      "Hosanna by Hillsong UNITED, Brooke Ligertwood\n",
      "Build My Life by Pat Barrett\n",
      "The Steadfast Love of the Lord by Dave Hunt\n",
      "Here I Am To Worship by Phillips, Craig & Dean\n",
      "Blessed Be Your Name by Matt Redman\n",
      "Above All / You Are My All in All by Mass Anthem\n",
      "Way Maker - Single Version by Leeland\n",
      "Anh Thương Em Nhất Mà? (feat. Log & TiB) by Thùy Trang, LOG, Tib\n",
      "What A Friend We Have In Jesus by Chris Rice\n",
      "The Heart Of Worship by Matt Redman\n"
     ]
    }
   ],
   "source": [
    "using HTTP\n",
    "using JSON3\n",
    "\n",
    "# Authorization token that must have been created previously\n",
    "const token = \"BQCvt4bP8Zj2NB4YMewfHAExqJjN421Ut9KcOgxlVl6kcgaXNdHhOzfqUDLr94qJpdx1rOGjostrPlL2AC4LQEQQU5kQXrsyp3bDORnb2jp_kjqcv0CGIbUdoBiW53J9Vc-b6mFKD2r_-ReBMB2bPf_2J08nEbOZCXM9_7t0xTZIf43MLPMQ4OjH-lRgo7Izm_NhdMYUOOkqcbnNhyZsnj6wL6TtURpgC8I9N3ka2pQ-r8EWLTs2elhkyiwlmBi1frmr3waqe2vM1c5dxZJQZ92IlltsrsxCAB-6\"\n",
    "\n",
    "function fetch_web_api(endpoint::String, method::String, body::Union{Nothing, Dict{String, Any}}=nothing)\n",
    "    url = \"https://api.spotify.com/$endpoint\"\n",
    "    headers = [\"Authorization\" => \"Bearer $token\"]\n",
    "    if method == \"GET\"\n",
    "        response = HTTP.request(method, url, headers=headers)\n",
    "    elseif method == \"POST\"\n",
    "        response = HTTP.request(method, url, headers=headers, body=JSON3.write(body))\n",
    "    else\n",
    "        throw(ArgumentError(\"Unsupported HTTP method\"))\n",
    "    end\n",
    "    return JSON3.read(String(response.body))\n",
    "end\n",
    "\n",
    "function get_top_tracks()\n",
    "    # Endpoint reference: https://developer.spotify.com/documentation/web-api/reference/get-users-top-artists-and-tracks\n",
    "    response = fetch_web_api(\"v1/me/top/tracks?time_range=long_term&limit=12\", \"GET\")\n",
    "    return response[\"items\"]\n",
    "end\n",
    "\n",
    "# Fetch and print the top tracks\n",
    "top_tracks = get_top_tracks()\n",
    "\n",
    "for track in top_tracks\n",
    "    name = track[\"name\"]\n",
    "    artists = join([artist[\"name\"] for artist in track[\"artists\"]], \", \")\n",
    "    println(\"$name by $artists\")\n",
    "end\n"
   ]
  }
 ],
 "metadata": {
  "kernelspec": {
   "display_name": "Julia 1.10.5",
   "language": "julia",
   "name": "julia-1.10"
  },
  "language_info": {
   "file_extension": ".jl",
   "mimetype": "application/julia",
   "name": "julia",
   "version": "1.10.5"
  }
 },
 "nbformat": 4,
 "nbformat_minor": 2
}
