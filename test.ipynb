{
 "cells": [
  {
   "cell_type": "code",
   "execution_count": 5,
   "metadata": {},
   "outputs": [
    {
     "name": "stdout",
     "output_type": "stream",
     "text": [
      "Yet Not I but Through Christ in Me by CityAlight\n",
      "Desert Song by Hillsong Worship\n",
      "Hosanna by Hillsong UNITED, Brooke Ligertwood\n",
      "Build My Life by Pat Barrett\n",
      "The Steadfast Love of the Lord by Dave Hunt\n",
      "Here I Am To Worship by Phillips, Craig & Dean\n",
      "Blessed Be Your Name by Matt Redman\n",
      "Above All / You Are My All in All by Mass Anthem\n",
      "Way Maker - Single Version by Leeland\n",
      "Anh Thương Em Nhất Mà? (feat. Log & TiB) by Thùy Trang, LOG, Tib\n",
      "What A Friend We Have In Jesus by Chris Rice\n",
      "The Heart Of Worship by Matt Redman\n"
     ]
    }
   ],
   "source": [
    "using HTTP\n",
    "using JSON3\n",
    "using JSON\n",
    "\n",
    "# Authorization token that must have been created previously\n",
    "const token = \"BQAJd5mquZVzcXxlBceyFTSFsaDXCutJGjpDyyg3CtwZi79FirDAQcjQSYSpTxIJizhmEvWpBgRW0BzkEZ_TjZX_yPUmC4aTy2gV93zqDfFcPEfxZKKggvAGsTdWasejU0jrtB-EOcy03aFe9A8X3kLIFcnh-Vw4yQ1Fame1juji8BFqpYJxItv9NkUIFhMZmXpXDIaZMVjvwKC0MVvZbPV1wZDm2i3WJYDZNUiwV-izh1fEbmbch9nHlU24pAfQPndWGT1a8TXl6ZIlSK_Whsug5L-xbfz13V_n\"\n",
    "\n",
    "function fetch_web_api(endpoint::String, method::String, body::Union{Nothing, Dict{String, Any}}=nothing)\n",
    "    url = \"https://api.spotify.com/$endpoint\"\n",
    "    headers = [\"Authorization\" => \"Bearer $token\"]\n",
    "    if method == \"GET\"\n",
    "        response = HTTP.request(method, url, headers=headers)\n",
    "    elseif method == \"POST\"\n",
    "        response = HTTP.request(method, url, headers=headers, body=JSON3.write(body))\n",
    "    else\n",
    "        throw(ArgumentError(\"Unsupported HTTP method\"))\n",
    "    end\n",
    "    return JSON3.read(String(response.body))\n",
    "end\n",
    "\n",
    "function get_top_tracks()\n",
    "    # Endpoint reference: https://developer.spotify.com/documentation/web-api/reference/get-users-top-artists-and-tracks\n",
    "    response = fetch_web_api(\"v1/me/top/tracks?time_range=long_term&limit=12\", \"GET\")\n",
    "    return response[\"items\"]\n",
    "end\n",
    "\n",
    "# Fetch and print the top tracks\n",
    "top_tracks = get_top_tracks()\n",
    "\n",
    "for track in top_tracks\n",
    "    name = track[\"name\"]\n",
    "    artists = join([artist[\"name\"] for artist in track[\"artists\"]], \", \")\n",
    "    println(\"$name by $artists\")\n",
    "end\n"
   ]
  },
  {
   "cell_type": "code",
   "execution_count": 6,
   "metadata": {},
   "outputs": [
    {
     "name": "stdout",
     "output_type": "stream",
     "text": [
      "Data successfully saved to data.json\n"
     ]
    }
   ],
   "source": [
    "function save_to_file(data, filename::String)\n",
    "    open(filename, \"w\") do io\n",
    "        JSON3.write(io, data)\n",
    "    end\n",
    "    println(\"Data successfully saved to $filename\")\n",
    "end\n",
    "save_to_file(top_tracks, \"data.json\")"
   ]
  },
  {
   "cell_type": "code",
   "execution_count": 7,
   "metadata": {},
   "outputs": [
    {
     "data": {
      "text/plain": [
       "12-element Vector{Any}:\n",
       " Dict{String, Any}(\"external_ids\" => Dict{String, Any}(\"isrc\" => \"TCADY1841528\"), \"preview_url\" => nothing, \"track_number\" => 1, \"album\" => Dict{String, Any}(\"external_urls\" => Dict{String, Any}(\"spotify\" => \"https://open.spotify.com/album/1pOLJKpaVOTB28BjYD57Vc\"), \"name\" => \"Yet Not I but Through Christ in Me\", \"release_date_precision\" => \"day\", \"href\" => \"https://api.spotify.com/v1/albums/1pOLJKpaVOTB28BjYD57Vc\", \"id\" => \"1pOLJKpaVOTB28BjYD57Vc\", \"album_type\" => \"single\", \"release_date\" => \"2018-11-11\", \"available_markets\" => Any[], \"artists\" => Any[Dict{String, Any}(\"external_urls\" => Dict{String, Any}(\"spotify\" => \"https://open.spotify.com/artist/4UNta2jPQJ844nyw1bsyPg\"), \"name\" => \"CityAlight\", \"uri\" => \"spotify:artist:4UNta2jPQJ844nyw1bsyPg\", \"href\" => \"https://api.spotify.com/v1/artists/4UNta2jPQJ844nyw1bsyPg\", \"id\" => \"4UNta2jPQJ844nyw1bsyPg\", \"type\" => \"artist\")], \"images\" => Any[Dict{String, Any}(\"height\" => 640, \"width\" => 640, \"url\" => \"https://i.scdn.co/image/ab67616d0000b273332f312d6669ea59356f53ac\"), Dict{String, Any}(\"height\" => 300, \"width\" => 300, \"url\" => \"https://i.scdn.co/image/ab67616d00001e02332f312d6669ea59356f53ac\"), Dict{String, Any}(\"height\" => 64, \"width\" => 64, \"url\" => \"https://i.scdn.co/image/ab67616d00004851332f312d6669ea59356f53ac\")]…), \"explicit\" => false, \"external_urls\" => Dict{String, Any}(\"spotify\" => \"https://open.spotify.com/track/439tGS9rVbyTjj5SmneD56\"), \"name\" => \"Yet Not I but Through Christ in Me\", \"href\" => \"https://api.spotify.com/v1/tracks/439tGS9rVbyTjj5SmneD56\", \"id\" => \"439tGS9rVbyTjj5SmneD56\", \"available_markets\" => Any[]…)\n",
       " Dict{String, Any}(\"external_ids\" => Dict{String, Any}(\"isrc\" => \"AUHS00802999\"), \"preview_url\" => nothing, \"track_number\" => 3, \"album\" => Dict{String, Any}(\"external_urls\" => Dict{String, Any}(\"spotify\" => \"https://open.spotify.com/album/28gnUNngflYeAdWTcz3kTV\"), \"name\" => \"Healer\", \"release_date_precision\" => \"day\", \"href\" => \"https://api.spotify.com/v1/albums/28gnUNngflYeAdWTcz3kTV\", \"id\" => \"28gnUNngflYeAdWTcz3kTV\", \"album_type\" => \"compilation\", \"release_date\" => \"2010-12-17\", \"available_markets\" => Any[\"AR\", \"AU\", \"AT\", \"BE\", \"BO\", \"BR\", \"BG\", \"CA\", \"CL\", \"CO\"  …  \"DJ\", \"ZM\", \"CD\", \"CG\", \"IQ\", \"LY\", \"TJ\", \"VE\", \"ET\", \"XK\"], \"artists\" => Any[Dict{String, Any}(\"external_urls\" => Dict{String, Any}(\"spotify\" => \"https://open.spotify.com/artist/0LyfQWJT6nXafLPZqxe9Of\"), \"name\" => \"Various Artists\", \"uri\" => \"spotify:artist:0LyfQWJT6nXafLPZqxe9Of\", \"href\" => \"https://api.spotify.com/v1/artists/0LyfQWJT6nXafLPZqxe9Of\", \"id\" => \"0LyfQWJT6nXafLPZqxe9Of\", \"type\" => \"artist\")], \"images\" => Any[Dict{String, Any}(\"height\" => 640, \"width\" => 640, \"url\" => \"https://i.scdn.co/image/ab67616d0000b2734e69b8797a3f994be167e7c2\"), Dict{String, Any}(\"height\" => 300, \"width\" => 300, \"url\" => \"https://i.scdn.co/image/ab67616d00001e024e69b8797a3f994be167e7c2\"), Dict{String, Any}(\"height\" => 64, \"width\" => 64, \"url\" => \"https://i.scdn.co/image/ab67616d000048514e69b8797a3f994be167e7c2\")]…), \"explicit\" => false, \"external_urls\" => Dict{String, Any}(\"spotify\" => \"https://open.spotify.com/track/6DPpXpdnmKMS0YCfOGmDcW\"), \"name\" => \"Desert Song\", \"href\" => \"https://api.spotify.com/v1/tracks/6DPpXpdnmKMS0YCfOGmDcW\", \"id\" => \"6DPpXpdnmKMS0YCfOGmDcW\", \"available_markets\" => Any[\"AR\", \"AU\", \"AT\", \"BE\", \"BO\", \"BR\", \"BG\", \"CA\", \"CL\", \"CO\"  …  \"DJ\", \"ZM\", \"CD\", \"CG\", \"IQ\", \"LY\", \"TJ\", \"VE\", \"ET\", \"XK\"]…)\n",
       " Dict{String, Any}(\"external_ids\" => Dict{String, Any}(\"isrc\" => \"AUHS00702541\"), \"preview_url\" => nothing, \"track_number\" => 8, \"album\" => Dict{String, Any}(\"external_urls\" => Dict{String, Any}(\"spotify\" => \"https://open.spotify.com/album/0nJ35Byhm8jzBS3QzjSv4D\"), \"name\" => \"All Of The Above\", \"release_date_precision\" => \"year\", \"href\" => \"https://api.spotify.com/v1/albums/0nJ35Byhm8jzBS3QzjSv4D\", \"id\" => \"0nJ35Byhm8jzBS3QzjSv4D\", \"album_type\" => \"album\", \"release_date\" => \"2007\", \"available_markets\" => Any[\"CA\", \"US\"], \"artists\" => Any[Dict{String, Any}(\"external_urls\" => Dict{String, Any}(\"spotify\" => \"https://open.spotify.com/artist/74cb3MG0x0BOnYNW1uXYnM\"), \"name\" => \"Hillsong UNITED\", \"uri\" => \"spotify:artist:74cb3MG0x0BOnYNW1uXYnM\", \"href\" => \"https://api.spotify.com/v1/artists/74cb3MG0x0BOnYNW1uXYnM\", \"id\" => \"74cb3MG0x0BOnYNW1uXYnM\", \"type\" => \"artist\")], \"images\" => Any[Dict{String, Any}(\"height\" => 640, \"width\" => 640, \"url\" => \"https://i.scdn.co/image/ab67616d0000b273442a4e58697d1502ed7e613e\"), Dict{String, Any}(\"height\" => 300, \"width\" => 300, \"url\" => \"https://i.scdn.co/image/ab67616d00001e02442a4e58697d1502ed7e613e\"), Dict{String, Any}(\"height\" => 64, \"width\" => 64, \"url\" => \"https://i.scdn.co/image/ab67616d00004851442a4e58697d1502ed7e613e\")]…), \"explicit\" => false, \"external_urls\" => Dict{String, Any}(\"spotify\" => \"https://open.spotify.com/track/5VlojXyAGM1q9ke2ybxrVT\"), \"name\" => \"Hosanna\", \"href\" => \"https://api.spotify.com/v1/tracks/5VlojXyAGM1q9ke2ybxrVT\", \"id\" => \"5VlojXyAGM1q9ke2ybxrVT\", \"available_markets\" => Any[\"CA\", \"US\"]…)\n",
       " Dict{String, Any}(\"external_ids\" => Dict{String, Any}(\"isrc\" => \"USUM71802872\"), \"preview_url\" => nothing, \"track_number\" => 8, \"album\" => Dict{String, Any}(\"external_urls\" => Dict{String, Any}(\"spotify\" => \"https://open.spotify.com/album/0aN0xAIaYHQDj63QrgvJJ5\"), \"name\" => \"Pat Barrett\", \"release_date_precision\" => \"day\", \"href\" => \"https://api.spotify.com/v1/albums/0aN0xAIaYHQDj63QrgvJJ5\", \"id\" => \"0aN0xAIaYHQDj63QrgvJJ5\", \"album_type\" => \"album\", \"release_date\" => \"2018-07-20\", \"available_markets\" => Any[\"AR\", \"AU\", \"AT\", \"BE\", \"BO\", \"BR\", \"BG\", \"CA\", \"CL\", \"CO\"  …  \"AO\", \"CI\", \"DJ\", \"ZM\", \"CD\", \"CG\", \"TJ\", \"VE\", \"ET\", \"XK\"], \"artists\" => Any[Dict{String, Any}(\"external_urls\" => Dict{String, Any}(\"spotify\" => \"https://open.spotify.com/artist/0289SkqAn0iOohwm0pIHv3\"), \"name\" => \"Pat Barrett\", \"uri\" => \"spotify:artist:0289SkqAn0iOohwm0pIHv3\", \"href\" => \"https://api.spotify.com/v1/artists/0289SkqAn0iOohwm0pIHv3\", \"id\" => \"0289SkqAn0iOohwm0pIHv3\", \"type\" => \"artist\")], \"images\" => Any[Dict{String, Any}(\"height\" => 640, \"width\" => 640, \"url\" => \"https://i.scdn.co/image/ab67616d0000b273fcdbed53e368744ac7255556\"), Dict{String, Any}(\"height\" => 300, \"width\" => 300, \"url\" => \"https://i.scdn.co/image/ab67616d00001e02fcdbed53e368744ac7255556\"), Dict{String, Any}(\"height\" => 64, \"width\" => 64, \"url\" => \"https://i.scdn.co/image/ab67616d00004851fcdbed53e368744ac7255556\")]…), \"explicit\" => false, \"external_urls\" => Dict{String, Any}(\"spotify\" => \"https://open.spotify.com/track/2UeOsbOZ3h1QxUX2Jfw42j\"), \"name\" => \"Build My Life\", \"href\" => \"https://api.spotify.com/v1/tracks/2UeOsbOZ3h1QxUX2Jfw42j\", \"id\" => \"2UeOsbOZ3h1QxUX2Jfw42j\", \"available_markets\" => Any[\"AR\", \"AU\", \"AT\", \"BE\", \"BO\", \"BR\", \"BG\", \"CA\", \"CL\", \"CO\"  …  \"AO\", \"CI\", \"DJ\", \"ZM\", \"CD\", \"CG\", \"TJ\", \"VE\", \"ET\", \"XK\"]…)\n",
       " Dict{String, Any}(\"external_ids\" => Dict{String, Any}(\"isrc\" => \"QMWH71100012\"), \"preview_url\" => nothing, \"track_number\" => 12, \"album\" => Dict{String, Any}(\"external_urls\" => Dict{String, Any}(\"spotify\" => \"https://open.spotify.com/album/3Kk5y6wSZfYnOgKjgkb64Y\"), \"name\" => \"Ebenezer: A Collection of Hymns\", \"release_date_precision\" => \"day\", \"href\" => \"https://api.spotify.com/v1/albums/3Kk5y6wSZfYnOgKjgkb64Y\", \"id\" => \"3Kk5y6wSZfYnOgKjgkb64Y\", \"album_type\" => \"album\", \"release_date\" => \"2011-06-14\", \"available_markets\" => Any[\"AR\", \"AU\", \"AT\", \"BE\", \"BO\", \"BR\", \"BG\", \"CA\", \"CL\", \"CO\"  …  \"DJ\", \"ZM\", \"CD\", \"CG\", \"IQ\", \"LY\", \"TJ\", \"VE\", \"ET\", \"XK\"], \"artists\" => Any[Dict{String, Any}(\"external_urls\" => Dict{String, Any}(\"spotify\" => \"https://open.spotify.com/artist/1gQBqAlrjGkYPDYcZ5eGct\"), \"name\" => \"Dave Hunt\", \"uri\" => \"spotify:artist:1gQBqAlrjGkYPDYcZ5eGct\", \"href\" => \"https://api.spotify.com/v1/artists/1gQBqAlrjGkYPDYcZ5eGct\", \"id\" => \"1gQBqAlrjGkYPDYcZ5eGct\", \"type\" => \"artist\")], \"images\" => Any[Dict{String, Any}(\"height\" => 640, \"width\" => 640, \"url\" => \"https://i.scdn.co/image/ab67616d0000b273499e3b23df3a7123a7f6baaf\"), Dict{String, Any}(\"height\" => 300, \"width\" => 300, \"url\" => \"https://i.scdn.co/image/ab67616d00001e02499e3b23df3a7123a7f6baaf\"), Dict{String, Any}(\"height\" => 64, \"width\" => 64, \"url\" => \"https://i.scdn.co/image/ab67616d00004851499e3b23df3a7123a7f6baaf\")]…), \"explicit\" => false, \"external_urls\" => Dict{String, Any}(\"spotify\" => \"https://open.spotify.com/track/4WqCcEr9Aqg3BmSHnALk6d\"), \"name\" => \"The Steadfast Love of the Lord\", \"href\" => \"https://api.spotify.com/v1/tracks/4WqCcEr9Aqg3BmSHnALk6d\", \"id\" => \"4WqCcEr9Aqg3BmSHnALk6d\", \"available_markets\" => Any[\"AR\", \"AU\", \"AT\", \"BE\", \"BO\", \"BR\", \"BG\", \"CA\", \"CL\", \"CO\"  …  \"DJ\", \"ZM\", \"CD\", \"CG\", \"IQ\", \"LY\", \"TJ\", \"VE\", \"ET\", \"XK\"]…)\n",
       " Dict{String, Any}(\"external_ids\" => Dict{String, Any}(\"isrc\" => \"USSP30218026\"), \"preview_url\" => nothing, \"track_number\" => 3, \"album\" => Dict{String, Any}(\"external_urls\" => Dict{String, Any}(\"spotify\" => \"https://open.spotify.com/album/6CDw75BLONKTZaYXK0y3o0\"), \"name\" => \"Let Your Glory Fall\", \"release_date_precision\" => \"day\", \"href\" => \"https://api.spotify.com/v1/albums/6CDw75BLONKTZaYXK0y3o0\", \"id\" => \"6CDw75BLONKTZaYXK0y3o0\", \"album_type\" => \"album\", \"release_date\" => \"2003-01-01\", \"available_markets\" => Any[\"AR\", \"AU\", \"AT\", \"BE\", \"BO\", \"BR\", \"BG\", \"CA\", \"CL\", \"CO\"  …  \"DJ\", \"ZM\", \"CD\", \"CG\", \"IQ\", \"LY\", \"TJ\", \"VE\", \"ET\", \"XK\"], \"artists\" => Any[Dict{String, Any}(\"external_urls\" => Dict{String, Any}(\"spotify\" => \"https://open.spotify.com/artist/0g5OkLnQogzLrT9s5vw6kl\"), \"name\" => \"Phillips, Craig & Dean\", \"uri\" => \"spotify:artist:0g5OkLnQogzLrT9s5vw6kl\", \"href\" => \"https://api.spotify.com/v1/artists/0g5OkLnQogzLrT9s5vw6kl\", \"id\" => \"0g5OkLnQogzLrT9s5vw6kl\", \"type\" => \"artist\")], \"images\" => Any[Dict{String, Any}(\"height\" => 640, \"width\" => 640, \"url\" => \"https://i.scdn.co/image/ab67616d0000b273606ea2bc338b0f98320cc0ff\"), Dict{String, Any}(\"height\" => 300, \"width\" => 300, \"url\" => \"https://i.scdn.co/image/ab67616d00001e02606ea2bc338b0f98320cc0ff\"), Dict{String, Any}(\"height\" => 64, \"width\" => 64, \"url\" => \"https://i.scdn.co/image/ab67616d00004851606ea2bc338b0f98320cc0ff\")]…), \"explicit\" => false, \"external_urls\" => Dict{String, Any}(\"spotify\" => \"https://open.spotify.com/track/3Ia7UXH7fERHxzLevh9RQw\"), \"name\" => \"Here I Am To Worship\", \"href\" => \"https://api.spotify.com/v1/tracks/3Ia7UXH7fERHxzLevh9RQw\", \"id\" => \"3Ia7UXH7fERHxzLevh9RQw\", \"available_markets\" => Any[\"AR\", \"AU\", \"AT\", \"BE\", \"BO\", \"BR\", \"BG\", \"CA\", \"CL\", \"CO\"  …  \"DJ\", \"ZM\", \"CD\", \"CG\", \"IQ\", \"LY\", \"TJ\", \"VE\", \"ET\", \"XK\"]…)\n",
       " Dict{String, Any}(\"external_ids\" => Dict{String, Any}(\"isrc\" => \"GBBTM0502601\"), \"preview_url\" => nothing, \"track_number\" => 1, \"album\" => Dict{String, Any}(\"external_urls\" => Dict{String, Any}(\"spotify\" => \"https://open.spotify.com/album/7pMoDDmoNMP0o44ztOoyvk\"), \"name\" => \"\\\"Blessed Be Your Name: The Songs Of Matt Redman, Vol. 1\\\"\", \"release_date_precision\" => \"day\", \"href\" => \"https://api.spotify.com/v1/albums/7pMoDDmoNMP0o44ztOoyvk\", \"id\" => \"7pMoDDmoNMP0o44ztOoyvk\", \"album_type\" => \"album\", \"release_date\" => \"2005-01-01\", \"available_markets\" => Any[\"CA\", \"US\"], \"artists\" => Any[Dict{String, Any}(\"external_urls\" => Dict{String, Any}(\"spotify\" => \"https://open.spotify.com/artist/0bz9hDpUbAw5JElgEiuIYZ\"), \"name\" => \"Matt Redman\", \"uri\" => \"spotify:artist:0bz9hDpUbAw5JElgEiuIYZ\", \"href\" => \"https://api.spotify.com/v1/artists/0bz9hDpUbAw5JElgEiuIYZ\", \"id\" => \"0bz9hDpUbAw5JElgEiuIYZ\", \"type\" => \"artist\")], \"images\" => Any[Dict{String, Any}(\"height\" => 640, \"width\" => 640, \"url\" => \"https://i.scdn.co/image/ab67616d0000b2732b288c7238ad3796d1bc3195\"), Dict{String, Any}(\"height\" => 300, \"width\" => 300, \"url\" => \"https://i.scdn.co/image/ab67616d00001e022b288c7238ad3796d1bc3195\"), Dict{String, Any}(\"height\" => 64, \"width\" => 64, \"url\" => \"https://i.scdn.co/image/ab67616d000048512b288c7238ad3796d1bc3195\")]…), \"explicit\" => false, \"external_urls\" => Dict{String, Any}(\"spotify\" => \"https://open.spotify.com/track/51ndwDACfzlvfOYnwp4ryn\"), \"name\" => \"Blessed Be Your Name\", \"href\" => \"https://api.spotify.com/v1/tracks/51ndwDACfzlvfOYnwp4ryn\", \"id\" => \"51ndwDACfzlvfOYnwp4ryn\", \"available_markets\" => Any[\"CA\", \"US\"]…)\n",
       " Dict{String, Any}(\"external_ids\" => Dict{String, Any}(\"isrc\" => \"QZHN42046582\"), \"preview_url\" => nothing, \"track_number\" => 3, \"album\" => Dict{String, Any}(\"external_urls\" => Dict{String, Any}(\"spotify\" => \"https://open.spotify.com/album/6wxSAwgvqGfoTMHabNFefH\"), \"name\" => \"Waymaker Worship\", \"release_date_precision\" => \"day\", \"href\" => \"https://api.spotify.com/v1/albums/6wxSAwgvqGfoTMHabNFefH\", \"id\" => \"6wxSAwgvqGfoTMHabNFefH\", \"album_type\" => \"album\", \"release_date\" => \"2020-06-12\", \"available_markets\" => Any[\"AR\", \"AU\", \"AT\", \"BE\", \"BO\", \"BR\", \"BG\", \"CA\", \"CL\", \"CO\"  …  \"DJ\", \"ZM\", \"CD\", \"CG\", \"IQ\", \"LY\", \"TJ\", \"VE\", \"ET\", \"XK\"], \"artists\" => Any[Dict{String, Any}(\"external_urls\" => Dict{String, Any}(\"spotify\" => \"https://open.spotify.com/artist/0KVR8D2dx5Td8ONhNZRLkM\"), \"name\" => \"Mass Anthem\", \"uri\" => \"spotify:artist:0KVR8D2dx5Td8ONhNZRLkM\", \"href\" => \"https://api.spotify.com/v1/artists/0KVR8D2dx5Td8ONhNZRLkM\", \"id\" => \"0KVR8D2dx5Td8ONhNZRLkM\", \"type\" => \"artist\")], \"images\" => Any[Dict{String, Any}(\"height\" => 640, \"width\" => 640, \"url\" => \"https://i.scdn.co/image/ab67616d0000b273548653090f0ac0f9879fc562\"), Dict{String, Any}(\"height\" => 300, \"width\" => 300, \"url\" => \"https://i.scdn.co/image/ab67616d00001e02548653090f0ac0f9879fc562\"), Dict{String, Any}(\"height\" => 64, \"width\" => 64, \"url\" => \"https://i.scdn.co/image/ab67616d00004851548653090f0ac0f9879fc562\")]…), \"explicit\" => false, \"external_urls\" => Dict{String, Any}(\"spotify\" => \"https://open.spotify.com/track/43LbtNQ09A6OkqsJMc1Lhu\"), \"name\" => \"Above All / You Are My All in All\", \"href\" => \"https://api.spotify.com/v1/tracks/43LbtNQ09A6OkqsJMc1Lhu\", \"id\" => \"43LbtNQ09A6OkqsJMc1Lhu\", \"available_markets\" => Any[\"AR\", \"AU\", \"AT\", \"BE\", \"BO\", \"BR\", \"BG\", \"CA\", \"CL\", \"CO\"  …  \"DJ\", \"ZM\", \"CD\", \"CG\", \"IQ\", \"LY\", \"TJ\", \"VE\", \"ET\", \"XK\"]…)\n",
       " Dict{String, Any}(\"external_ids\" => Dict{String, Any}(\"isrc\" => \"US25L2000001\"), \"preview_url\" => nothing, \"track_number\" => 1, \"album\" => Dict{String, Any}(\"external_urls\" => Dict{String, Any}(\"spotify\" => \"https://open.spotify.com/album/2qPWe6Pl4Xh6L58ooHfXDm\"), \"name\" => \"Way Maker\", \"release_date_precision\" => \"day\", \"href\" => \"https://api.spotify.com/v1/albums/2qPWe6Pl4Xh6L58ooHfXDm\", \"id\" => \"2qPWe6Pl4Xh6L58ooHfXDm\", \"album_type\" => \"single\", \"release_date\" => \"2020-02-14\", \"available_markets\" => Any[\"AR\", \"AU\", \"AT\", \"BE\", \"BO\", \"BR\", \"BG\", \"CA\", \"CL\", \"CO\"  …  \"DJ\", \"ZM\", \"CD\", \"CG\", \"IQ\", \"LY\", \"TJ\", \"VE\", \"ET\", \"XK\"], \"artists\" => Any[Dict{String, Any}(\"external_urls\" => Dict{String, Any}(\"spotify\" => \"https://open.spotify.com/artist/6j1fmLreVuAay7k6Gudfa2\"), \"name\" => \"Leeland\", \"uri\" => \"spotify:artist:6j1fmLreVuAay7k6Gudfa2\", \"href\" => \"https://api.spotify.com/v1/artists/6j1fmLreVuAay7k6Gudfa2\", \"id\" => \"6j1fmLreVuAay7k6Gudfa2\", \"type\" => \"artist\")], \"images\" => Any[Dict{String, Any}(\"height\" => 640, \"width\" => 640, \"url\" => \"https://i.scdn.co/image/ab67616d0000b273ba7c16d8745a1f453e48d98f\"), Dict{String, Any}(\"height\" => 300, \"width\" => 300, \"url\" => \"https://i.scdn.co/image/ab67616d00001e02ba7c16d8745a1f453e48d98f\"), Dict{String, Any}(\"height\" => 64, \"width\" => 64, \"url\" => \"https://i.scdn.co/image/ab67616d00004851ba7c16d8745a1f453e48d98f\")]…), \"explicit\" => false, \"external_urls\" => Dict{String, Any}(\"spotify\" => \"https://open.spotify.com/track/0H4BGX7L8UfoD0g4wgXd0D\"), \"name\" => \"Way Maker - Single Version\", \"href\" => \"https://api.spotify.com/v1/tracks/0H4BGX7L8UfoD0g4wgXd0D\", \"id\" => \"0H4BGX7L8UfoD0g4wgXd0D\", \"available_markets\" => Any[\"AR\", \"AU\", \"AT\", \"BE\", \"BO\", \"BR\", \"BG\", \"CA\", \"CL\", \"CO\"  …  \"DJ\", \"ZM\", \"CD\", \"CG\", \"IQ\", \"LY\", \"TJ\", \"VE\", \"ET\", \"XK\"]…)\n",
       " Dict{String, Any}(\"external_ids\" => Dict{String, Any}(\"isrc\" => \"VNA0M1848616\"), \"preview_url\" => nothing, \"track_number\" => 1, \"album\" => Dict{String, Any}(\"external_urls\" => Dict{String, Any}(\"spotify\" => \"https://open.spotify.com/album/6jh6c5UEzzucRHft9EJGOG\"), \"name\" => \"Anh Thương Em Nhất Mà? (feat. Log & TiB)\", \"release_date_precision\" => \"day\", \"href\" => \"https://api.spotify.com/v1/albums/6jh6c5UEzzucRHft9EJGOG\", \"id\" => \"6jh6c5UEzzucRHft9EJGOG\", \"album_type\" => \"single\", \"release_date\" => \"2019-05-20\", \"available_markets\" => Any[\"AR\", \"AU\", \"AT\", \"BE\", \"BO\", \"BR\", \"BG\", \"CA\", \"CL\", \"CO\"  …  \"DJ\", \"ZM\", \"CD\", \"CG\", \"IQ\", \"LY\", \"TJ\", \"VE\", \"ET\", \"XK\"], \"artists\" => Any[Dict{String, Any}(\"external_urls\" => Dict{String, Any}(\"spotify\" => \"https://open.spotify.com/artist/09bLhl2caRTYcfQ07I164b\"), \"name\" => \"Thùy Trang\", \"uri\" => \"spotify:artist:09bLhl2caRTYcfQ07I164b\", \"href\" => \"https://api.spotify.com/v1/artists/09bLhl2caRTYcfQ07I164b\", \"id\" => \"09bLhl2caRTYcfQ07I164b\", \"type\" => \"artist\")], \"images\" => Any[Dict{String, Any}(\"height\" => 640, \"width\" => 640, \"url\" => \"https://i.scdn.co/image/ab67616d0000b2738298bcce652558aa15783154\"), Dict{String, Any}(\"height\" => 300, \"width\" => 300, \"url\" => \"https://i.scdn.co/image/ab67616d00001e028298bcce652558aa15783154\"), Dict{String, Any}(\"height\" => 64, \"width\" => 64, \"url\" => \"https://i.scdn.co/image/ab67616d000048518298bcce652558aa15783154\")]…), \"explicit\" => false, \"external_urls\" => Dict{String, Any}(\"spotify\" => \"https://open.spotify.com/track/0m6CY6xxxofBoefkNGoMxI\"), \"name\" => \"Anh Thương Em Nhất Mà? (feat. Log & TiB)\", \"href\" => \"https://api.spotify.com/v1/tracks/0m6CY6xxxofBoefkNGoMxI\", \"id\" => \"0m6CY6xxxofBoefkNGoMxI\", \"available_markets\" => Any[\"AR\", \"AU\", \"AT\", \"BE\", \"BO\", \"BR\", \"BG\", \"CA\", \"CL\", \"CO\"  …  \"DJ\", \"ZM\", \"CD\", \"CG\", \"IQ\", \"LY\", \"TJ\", \"VE\", \"ET\", \"XK\"]…)\n",
       " Dict{String, Any}(\"external_ids\" => Dict{String, Any}(\"isrc\" => \"USM2C1801401\"), \"preview_url\" => nothing, \"track_number\" => 1, \"album\" => Dict{String, Any}(\"external_urls\" => Dict{String, Any}(\"spotify\" => \"https://open.spotify.com/album/4XDj1573h0qRdkUNPiJKVP\"), \"name\" => \"Untitled Hymn: A Collection of Hymns\", \"release_date_precision\" => \"day\", \"href\" => \"https://api.spotify.com/v1/albums/4XDj1573h0qRdkUNPiJKVP\", \"id\" => \"4XDj1573h0qRdkUNPiJKVP\", \"album_type\" => \"album\", \"release_date\" => \"2019-05-17\", \"available_markets\" => Any[\"CA\", \"PR\", \"US\"], \"artists\" => Any[Dict{String, Any}(\"external_urls\" => Dict{String, Any}(\"spotify\" => \"https://open.spotify.com/artist/0vD3f3r69jBB1bL6VWnGM2\"), \"name\" => \"Chris Rice\", \"uri\" => \"spotify:artist:0vD3f3r69jBB1bL6VWnGM2\", \"href\" => \"https://api.spotify.com/v1/artists/0vD3f3r69jBB1bL6VWnGM2\", \"id\" => \"0vD3f3r69jBB1bL6VWnGM2\", \"type\" => \"artist\")], \"images\" => Any[Dict{String, Any}(\"height\" => 640, \"width\" => 640, \"url\" => \"https://i.scdn.co/image/ab67616d0000b2731ff0913a6c9cb48c8611c552\"), Dict{String, Any}(\"height\" => 300, \"width\" => 300, \"url\" => \"https://i.scdn.co/image/ab67616d00001e021ff0913a6c9cb48c8611c552\"), Dict{String, Any}(\"height\" => 64, \"width\" => 64, \"url\" => \"https://i.scdn.co/image/ab67616d000048511ff0913a6c9cb48c8611c552\")]…), \"explicit\" => false, \"external_urls\" => Dict{String, Any}(\"spotify\" => \"https://open.spotify.com/track/1nsYAGD6eN6uNdXqpY7MM3\"), \"name\" => \"What A Friend We Have In Jesus\", \"href\" => \"https://api.spotify.com/v1/tracks/1nsYAGD6eN6uNdXqpY7MM3\", \"id\" => \"1nsYAGD6eN6uNdXqpY7MM3\", \"available_markets\" => Any[\"CA\", \"PR\", \"US\"]…)\n",
       " Dict{String, Any}(\"external_ids\" => Dict{String, Any}(\"isrc\" => \"GBBTM9700612\"), \"preview_url\" => nothing, \"track_number\" => 8, \"album\" => Dict{String, Any}(\"external_urls\" => Dict{String, Any}(\"spotify\" => \"https://open.spotify.com/album/3FgTpw4Cy3rGZc4FOyoVjf\"), \"name\" => \"The Heart Of Worship\", \"release_date_precision\" => \"day\", \"href\" => \"https://api.spotify.com/v1/albums/3FgTpw4Cy3rGZc4FOyoVjf\", \"id\" => \"3FgTpw4Cy3rGZc4FOyoVjf\", \"album_type\" => \"album\", \"release_date\" => \"1999-01-01\", \"available_markets\" => Any[\"CA\", \"US\"], \"artists\" => Any[Dict{String, Any}(\"external_urls\" => Dict{String, Any}(\"spotify\" => \"https://open.spotify.com/artist/0bz9hDpUbAw5JElgEiuIYZ\"), \"name\" => \"Matt Redman\", \"uri\" => \"spotify:artist:0bz9hDpUbAw5JElgEiuIYZ\", \"href\" => \"https://api.spotify.com/v1/artists/0bz9hDpUbAw5JElgEiuIYZ\", \"id\" => \"0bz9hDpUbAw5JElgEiuIYZ\", \"type\" => \"artist\")], \"images\" => Any[Dict{String, Any}(\"height\" => 640, \"width\" => 640, \"url\" => \"https://i.scdn.co/image/ab67616d0000b2736e702de5284a420616c6566c\"), Dict{String, Any}(\"height\" => 300, \"width\" => 300, \"url\" => \"https://i.scdn.co/image/ab67616d00001e026e702de5284a420616c6566c\"), Dict{String, Any}(\"height\" => 64, \"width\" => 64, \"url\" => \"https://i.scdn.co/image/ab67616d000048516e702de5284a420616c6566c\")]…), \"explicit\" => false, \"external_urls\" => Dict{String, Any}(\"spotify\" => \"https://open.spotify.com/track/1WYHvGn6fQZRAmbD5TG51j\"), \"name\" => \"The Heart Of Worship\", \"href\" => \"https://api.spotify.com/v1/tracks/1WYHvGn6fQZRAmbD5TG51j\", \"id\" => \"1WYHvGn6fQZRAmbD5TG51j\", \"available_markets\" => Any[\"CA\", \"US\"]…)"
      ]
     },
     "metadata": {},
     "output_type": "display_data"
    }
   ],
   "source": [
    "parsedData = JSON.parsefile(\"data.json\")"
   ]
  },
  {
   "cell_type": "code",
   "execution_count": 8,
   "metadata": {},
   "outputs": [
    {
     "data": {
      "text/html": [
       "<div><div style = \"float: left;\"><span>12×4 DataFrame</span></div><div style = \"clear: both;\"></div></div><div class = \"data-frame\" style = \"overflow-x: scroll;\"><table class = \"data-frame\" style = \"margin-bottom: 6px;\"><thead><tr class = \"header\"><th class = \"rowNumber\" style = \"font-weight: bold; text-align: right;\">Row</th><th style = \"text-align: left;\">TrackName</th><th style = \"text-align: left;\">AlbumName</th><th style = \"text-align: left;\">ArtistName</th><th style = \"text-align: left;\">SpotifyURL</th></tr><tr class = \"subheader headerLastRow\"><th class = \"rowNumber\" style = \"font-weight: bold; text-align: right;\"></th><th title = \"String\" style = \"text-align: left;\">String</th><th title = \"String\" style = \"text-align: left;\">String</th><th title = \"String\" style = \"text-align: left;\">String</th><th title = \"String\" style = \"text-align: left;\">String</th></tr></thead><tbody><tr><td class = \"rowNumber\" style = \"font-weight: bold; text-align: right;\">1</td><td style = \"text-align: left;\">Yet Not I but Through Christ in Me</td><td style = \"text-align: left;\">Yet Not I but Through Christ in Me</td><td style = \"text-align: left;\">CityAlight</td><td style = \"text-align: left;\">https://open.spotify.com/track/439tGS9rVbyTjj5SmneD56</td></tr><tr><td class = \"rowNumber\" style = \"font-weight: bold; text-align: right;\">2</td><td style = \"text-align: left;\">Desert Song</td><td style = \"text-align: left;\">Healer</td><td style = \"text-align: left;\">Various Artists</td><td style = \"text-align: left;\">https://open.spotify.com/track/6DPpXpdnmKMS0YCfOGmDcW</td></tr><tr><td class = \"rowNumber\" style = \"font-weight: bold; text-align: right;\">3</td><td style = \"text-align: left;\">Hosanna</td><td style = \"text-align: left;\">All Of The Above</td><td style = \"text-align: left;\">Hillsong UNITED</td><td style = \"text-align: left;\">https://open.spotify.com/track/5VlojXyAGM1q9ke2ybxrVT</td></tr><tr><td class = \"rowNumber\" style = \"font-weight: bold; text-align: right;\">4</td><td style = \"text-align: left;\">Build My Life</td><td style = \"text-align: left;\">Pat Barrett</td><td style = \"text-align: left;\">Pat Barrett</td><td style = \"text-align: left;\">https://open.spotify.com/track/2UeOsbOZ3h1QxUX2Jfw42j</td></tr><tr><td class = \"rowNumber\" style = \"font-weight: bold; text-align: right;\">5</td><td style = \"text-align: left;\">The Steadfast Love of the Lord</td><td style = \"text-align: left;\">Ebenezer: A Collection of Hymns</td><td style = \"text-align: left;\">Dave Hunt</td><td style = \"text-align: left;\">https://open.spotify.com/track/4WqCcEr9Aqg3BmSHnALk6d</td></tr><tr><td class = \"rowNumber\" style = \"font-weight: bold; text-align: right;\">6</td><td style = \"text-align: left;\">Here I Am To Worship</td><td style = \"text-align: left;\">Let Your Glory Fall</td><td style = \"text-align: left;\">Phillips, Craig &amp; Dean</td><td style = \"text-align: left;\">https://open.spotify.com/track/3Ia7UXH7fERHxzLevh9RQw</td></tr><tr><td class = \"rowNumber\" style = \"font-weight: bold; text-align: right;\">7</td><td style = \"text-align: left;\">Blessed Be Your Name</td><td style = \"text-align: left;\">&quot;Blessed Be Your Name: The Songs Of Matt Redman, Vol. 1&quot;</td><td style = \"text-align: left;\">Matt Redman</td><td style = \"text-align: left;\">https://open.spotify.com/track/51ndwDACfzlvfOYnwp4ryn</td></tr><tr><td class = \"rowNumber\" style = \"font-weight: bold; text-align: right;\">8</td><td style = \"text-align: left;\">Above All / You Are My All in All</td><td style = \"text-align: left;\">Waymaker Worship</td><td style = \"text-align: left;\">Mass Anthem</td><td style = \"text-align: left;\">https://open.spotify.com/track/43LbtNQ09A6OkqsJMc1Lhu</td></tr><tr><td class = \"rowNumber\" style = \"font-weight: bold; text-align: right;\">9</td><td style = \"text-align: left;\">Way Maker - Single Version</td><td style = \"text-align: left;\">Way Maker</td><td style = \"text-align: left;\">Leeland</td><td style = \"text-align: left;\">https://open.spotify.com/track/0H4BGX7L8UfoD0g4wgXd0D</td></tr><tr><td class = \"rowNumber\" style = \"font-weight: bold; text-align: right;\">10</td><td style = \"text-align: left;\">Anh Thương Em Nhất Mà? (feat. Log &amp; TiB)</td><td style = \"text-align: left;\">Anh Thương Em Nhất Mà? (feat. Log &amp; TiB)</td><td style = \"text-align: left;\">Thùy Trang</td><td style = \"text-align: left;\">https://open.spotify.com/track/0m6CY6xxxofBoefkNGoMxI</td></tr><tr><td class = \"rowNumber\" style = \"font-weight: bold; text-align: right;\">11</td><td style = \"text-align: left;\">What A Friend We Have In Jesus</td><td style = \"text-align: left;\">Untitled Hymn: A Collection of Hymns</td><td style = \"text-align: left;\">Chris Rice</td><td style = \"text-align: left;\">https://open.spotify.com/track/1nsYAGD6eN6uNdXqpY7MM3</td></tr><tr><td class = \"rowNumber\" style = \"font-weight: bold; text-align: right;\">12</td><td style = \"text-align: left;\">The Heart Of Worship</td><td style = \"text-align: left;\">The Heart Of Worship</td><td style = \"text-align: left;\">Matt Redman</td><td style = \"text-align: left;\">https://open.spotify.com/track/1WYHvGn6fQZRAmbD5TG51j</td></tr></tbody></table></div>"
      ],
      "text/latex": [
       "\\begin{tabular}{r|ccc}\n",
       "\t& TrackName & AlbumName & \\\\\n",
       "\t\\hline\n",
       "\t& String & String & \\\\\n",
       "\t\\hline\n",
       "\t1 & Yet Not I but Through Christ in Me & Yet Not I but Through Christ in Me & $\\dots$ \\\\\n",
       "\t2 & Desert Song & Healer & $\\dots$ \\\\\n",
       "\t3 & Hosanna & All Of The Above & $\\dots$ \\\\\n",
       "\t4 & Build My Life & Pat Barrett & $\\dots$ \\\\\n",
       "\t5 & The Steadfast Love of the Lord & Ebenezer: A Collection of Hymns & $\\dots$ \\\\\n",
       "\t6 & Here I Am To Worship & Let Your Glory Fall & $\\dots$ \\\\\n",
       "\t7 & Blessed Be Your Name & \"Blessed Be Your Name: The Songs Of Matt Redman, Vol. 1\" & $\\dots$ \\\\\n",
       "\t8 & Above All / You Are My All in All & Waymaker Worship & $\\dots$ \\\\\n",
       "\t9 & Way Maker - Single Version & Way Maker & $\\dots$ \\\\\n",
       "\t10 & Anh Thương Em Nhất Mà? (feat. Log \\& TiB) & Anh Thương Em Nhất Mà? (feat. Log \\& TiB) & $\\dots$ \\\\\n",
       "\t11 & What A Friend We Have In Jesus & Untitled Hymn: A Collection of Hymns & $\\dots$ \\\\\n",
       "\t12 & The Heart Of Worship & The Heart Of Worship & $\\dots$ \\\\\n",
       "\\end{tabular}\n"
      ],
      "text/plain": [
       "\u001b[1m12×4 DataFrame\u001b[0m\n",
       "\u001b[1m Row \u001b[0m│\u001b[1m TrackName                         \u001b[0m\u001b[1m AlbumName                         \u001b[0m\u001b[1m A\u001b[0m ⋯\n",
       "     │\u001b[90m String                            \u001b[0m\u001b[90m String                            \u001b[0m\u001b[90m S\u001b[0m ⋯\n",
       "─────┼──────────────────────────────────────────────────────────────────────────\n",
       "   1 │ Yet Not I but Through Christ in …  Yet Not I but Through Christ in …  C ⋯\n",
       "   2 │ Desert Song                        Healer                             V\n",
       "   3 │ Hosanna                            All Of The Above                   H\n",
       "   4 │ Build My Life                      Pat Barrett                        P\n",
       "   5 │ The Steadfast Love of the Lord     Ebenezer: A Collection of Hymns    D ⋯\n",
       "   6 │ Here I Am To Worship               Let Your Glory Fall                P\n",
       "   7 │ Blessed Be Your Name               \"Blessed Be Your Name: The Songs…  M\n",
       "   8 │ Above All / You Are My All in All  Waymaker Worship                   M\n",
       "   9 │ Way Maker - Single Version         Way Maker                          L ⋯\n",
       "  10 │ Anh Thương Em Nhất Mà? (feat. Lo…  Anh Thương Em Nhất Mà? (feat. Lo…  T\n",
       "  11 │ What A Friend We Have In Jesus     Untitled Hymn: A Collection of H…  C\n",
       "  12 │ The Heart Of Worship               The Heart Of Worship               M\n",
       "\u001b[36m                                                               2 columns omitted\u001b[0m"
      ]
     },
     "metadata": {},
     "output_type": "display_data"
    }
   ],
   "source": [
    "using DataFrames\n",
    "\n",
    "# Extract relevant fields into a DataFrame\n",
    "tracks_df = DataFrame(\n",
    "    TrackName = [track[\"name\"] for track in parsedData],\n",
    "    AlbumName = [track[\"album\"][\"name\"] for track in parsedData],\n",
    "    ArtistName = [track[\"album\"][\"artists\"][1][\"name\"] for track in parsedData],\n",
    "    SpotifyURL = [track[\"external_urls\"][\"spotify\"] for track in parsedData]\n",
    ")"
   ]
  },
  {
   "cell_type": "code",
   "execution_count": null,
   "metadata": {},
   "outputs": [],
   "source": [
    "token = 'BQAJd5mquZVzcXxlBceyFTSFsaDXCutJGjpDyyg3CtwZi79FirDAQcjQSYSpTxIJizhmEvWpBgRW0BzkEZ_TjZX_yPUmC4aTy2gV93zqDfFcPEfxZKKggvAGsTdWasejU0jrtB-EOcy03aFe9A8X3kLIFcnh-Vw4yQ1Fame1juji8BFqpYJxItv9NkUIFhMZmXpXDIaZMVjvwKC0MVvZbPV1wZDm2i3WJYDZNUiwV-izh1fEbmbch9nHlU24pAfQPndWGT1a8TXl6ZIlSK_Whsug5L-xbfz13V_n'"
   ]
  }
 ],
 "metadata": {
  "kernelspec": {
   "display_name": "Julia 1.10.5",
   "language": "julia",
   "name": "julia-1.10"
  },
  "language_info": {
   "file_extension": ".jl",
   "mimetype": "application/julia",
   "name": "julia",
   "version": "1.10.5"
  }
 },
 "nbformat": 4,
 "nbformat_minor": 2
}
